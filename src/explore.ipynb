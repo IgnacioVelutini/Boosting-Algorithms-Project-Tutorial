{
    "cells": [
        {
            "cell_type": "markdown",
            "metadata": {},
            "source": [
                "# Explore here"
            ]
        },
        {
            "cell_type": "code",
            "execution_count": 6,
            "metadata": {},
            "outputs": [
                {
                    "data": {
                        "text/plain": [
                            "(   Pregnancies  Glucose  BloodPressure  Insulin   BMI  \\\n",
                            " 0          2.0     84.0            0.0      0.0   0.0   \n",
                            " 1          9.0    112.0           82.0      0.0  28.2   \n",
                            " 2          1.0    139.0           46.0     83.0  28.7   \n",
                            " 3          0.0    161.0           50.0      0.0  21.9   \n",
                            " 4          6.0    134.0           80.0    370.0  46.2   \n",
                            " \n",
                            "    DiabetesPedigreeFunction   Age  \n",
                            " 0                     0.304  21.0  \n",
                            " 1                     1.282  50.0  \n",
                            " 2                     0.654  22.0  \n",
                            " 3                     0.254  65.0  \n",
                            " 4                     0.238  46.0  ,\n",
                            " 0    0\n",
                            " 1    1\n",
                            " 2    0\n",
                            " 3    0\n",
                            " 4    1\n",
                            " Name: Outcome, dtype: int64)"
                        ]
                    },
                    "execution_count": 6,
                    "metadata": {},
                    "output_type": "execute_result"
                }
            ],
            "source": [
                "# Your code here\n",
                "\n",
                "# Step 1: Import required libraries\n",
                "import pandas as pd\n",
                "from xgboost import XGBClassifier\n",
                "from sklearn.metrics import accuracy_score\n",
                "from pickle import dump\n",
                "\n",
                "# Load the dataset\n",
                "train_data = pd.read_csv('../../Decision-Tree-Project-Tutorial/data/processed/clean_train.csv')\n",
                "test_data = pd.read_csv('../../Decision-Tree-Project-Tutorial/data/processed/clean_test.csv')\n",
                "\n",
                "# Split the data into features and target\n",
                "X_train = train_data.drop(columns=['Outcome'])\n",
                "y_train = train_data['Outcome']\n",
                "X_test = test_data.drop(columns=['Outcome'])\n",
                "y_test = test_data['Outcome']\n",
                "\n",
                "# Verify the data\n",
                "X_train.head(), y_train.head()\n"
            ]
        },
        {
            "cell_type": "code",
            "execution_count": 7,
            "metadata": {},
            "outputs": [
                {
                    "data": {
                        "text/plain": [
                            "array([0, 0, 0, 0, 0, 0, 0, 0, 0, 0])"
                        ]
                    },
                    "execution_count": 7,
                    "metadata": {},
                    "output_type": "execute_result"
                }
            ],
            "source": [
                "# Step 2: Build the boosting model\n",
                "model = XGBClassifier(n_estimators=200, learning_rate=0.001, random_state=42)\n",
                "\n",
                "# Fit the model on the training data\n",
                "model.fit(X_train, y_train)\n",
                "\n",
                "# Predict the results on the test set\n",
                "y_pred = model.predict(X_test)\n",
                "\n",
                "# Display the first few predictions\n",
                "y_pred[:10]\n"
            ]
        },
        {
            "cell_type": "code",
            "execution_count": 8,
            "metadata": {},
            "outputs": [
                {
                    "name": "stdout",
                    "output_type": "stream",
                    "text": [
                        "Boosting Model Accuracy: 0.6428571428571429\n"
                    ]
                }
            ],
            "source": [
                "# Step 3: Evaluate the model's accuracy\n",
                "accuracy = accuracy_score(y_test, y_pred)\n",
                "print(f\"Boosting Model Accuracy: {accuracy}\")\n"
            ]
        },
        {
            "cell_type": "code",
            "execution_count": 9,
            "metadata": {},
            "outputs": [],
            "source": [
                "# Step 4: Save the model\n",
                "dump(model, open(\"../models/boosting_classifier_nestimators-200_learnrate-0.001_42.sav\", \"wb\"))\n"
            ]
        }
    ],
    "metadata": {
        "kernelspec": {
            "display_name": "Python 3.8.13 64-bit ('3.8.13')",
            "language": "python",
            "name": "python3"
        },
        "language_info": {
            "codemirror_mode": {
                "name": "ipython",
                "version": 3
            },
            "file_extension": ".py",
            "mimetype": "text/x-python",
            "name": "python",
            "nbconvert_exporter": "python",
            "pygments_lexer": "ipython3",
            "version": "3.12.1"
        },
        "orig_nbformat": 4,
        "vscode": {
            "interpreter": {
                "hash": "110cc1dee26208153f2972f08a2ad52b6a56238dc66d48e87fb757ef2996db56"
            }
        }
    },
    "nbformat": 4,
    "nbformat_minor": 2
}
